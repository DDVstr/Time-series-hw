{
 "cells": [
  {
   "attachments": {},
   "cell_type": "markdown",
   "metadata": {},
   "source": [
    "#### Name: Zhornichenko Ilya Alekseevich\n",
    "#### Group: TMSS\n",
    "#### Higher school of economics\n",
    "#### Implementation of Entropy-complexity plane for featuring raw data"
   ]
  },
  {
   "cell_type": "code",
   "execution_count": 8,
   "metadata": {},
   "outputs": [],
   "source": [
    "\"\"\"importing libraries\"\"\"\n",
    "import numpy as np\n",
    "import matplotlib.pyplot as plt\n",
    "import pandas as pd\n",
    "from sklearn.linear_model import LinearRegression\n",
    "import statsmodels.api as sm\n",
    "from statsmodels.graphics.tsaplots import plot_acf, plot_pacf\n",
    "import sys\n",
    "import warnings\n",
    "import random\n",
    "from itertools import permutations\n",
    "from scipy.special import xlogy\n",
    "import math\n",
    "import tqdm\n"
   ]
  },
  {
   "cell_type": "code",
   "execution_count": 9,
   "metadata": {},
   "outputs": [],
   "source": [
    "def chaos_generator(time, setup_iter):\n",
    "    time_init      = 0\n",
    "    time_terminate = time\n",
    "    number_of_iters = setup_iter\n",
    "    \"\"\"measuring delta t\"\"\"\n",
    "    dt =  (time_terminate - time_init)/ number_of_iters\n",
    "    \"\"\"for-loop for time series\"\"\"\n",
    "    time = []\n",
    "    set_random_points = []\n",
    "    for i in np.arange(time_init , time_terminate - dt, dt): \n",
    "        time.append(i)\n",
    "        set_random_points.append(random.random()) \n",
    "\n",
    "\n",
    "    return time, set_random_points"
   ]
  },
  {
   "cell_type": "code",
   "execution_count": 10,
   "metadata": {},
   "outputs": [],
   "source": [
    "\n",
    "def bandt_pompe(x, D):\n",
    "    orders = list(permutations(list(range(D))))\n",
    "    ord2idx = {o: i for i, o in enumerate(orders)}\n",
    "    \n",
    "    fac = math.factorial(D)\n",
    "    dist = np.zeros(fac)\n",
    "    denom = 0\n",
    "    \n",
    "    for s in tqdm(range(len(x) - D + 1)):\n",
    "        cur = x[s:s + D]\n",
    "        perm = tuple(np.argsort(cur))\n",
    "        dist[ord2idx[perm]] += 1\n",
    "        denom += 1\n",
    "    return dist / denom\n",
    "\n",
    "def entropy(dist):\n",
    "    return -xlogy(dist, dist).sum()"
   ]
  },
  {
   "cell_type": "code",
   "execution_count": 14,
   "metadata": {},
   "outputs": [],
   "source": [
    "def get_entropy_complexity(x, D):\n",
    "    p_ts = bandt_pompe(x, D)\n",
    "    fac = math.factorial(D)\n",
    "    p_e = np.ones(fac) / fac\n",
    "    p0 = np.zeros(fac); p0[0] += 1\n",
    "    S_p = entropy(p_ts); S_pe = entropy(p_e)\n",
    "    H_S = S_p / S_pe\n",
    "    \n",
    "    \n",
    "    \n",
    "    Q_zero = entropy((p0 + p_e) / 2) - entropy(p0) / 2 - S_pe / 2\n",
    "    Q_j = (entropy((p_ts + p_e) / 2) - S_p / 2 - S_pe / 2) / Q_zero\n",
    "    return H_S, Q_j * H_S"
   ]
  },
  {
   "cell_type": "code",
   "execution_count": 7,
   "metadata": {},
   "outputs": [
    {
     "name": "stdout",
     "output_type": "stream",
     "text": [
      "Requirement already satisfied: tqdm in /Library/Frameworks/Python.framework/Versions/3.8/lib/python3.8/site-packages (4.64.1)\n"
     ]
    }
   ],
   "source": [
    "\n",
    "ent_chaos, comp_chaos = get_entropy_complexity(np.array([chaos_generator(1000000,200)[1]]), D=5)\n",
    "#ent_lorentz, comp_lorentz = get_entropy_complexity(lorentz.values, D)\n",
    "plt.figure(figsize=(5, 5))\n",
    "plt.xlim(0, 1)\n",
    "plt.ylim(0, 1)\n",
    "\n",
    "plt.scatter(ent_chaos, comp_chaos, label='Chaos')\n",
    "#plt.scatter(ent_lorentz, comp_lorentz, label='Lorentz')\n",
    "plt.xlabel('Entropy HS')\n",
    "plt.ylabel('Complexity CJS')\n",
    "plt.title('Entropy-Complexity plane')\n",
    "plt.legend(); plt.show()"
   ]
  },
  {
   "cell_type": "code",
   "execution_count": null,
   "metadata": {},
   "outputs": [],
   "source": []
  }
 ],
 "metadata": {
  "kernelspec": {
   "display_name": "Python 3",
   "language": "python",
   "name": "python3"
  },
  "language_info": {
   "codemirror_mode": {
    "name": "ipython",
    "version": 3
   },
   "file_extension": ".py",
   "mimetype": "text/x-python",
   "name": "python",
   "nbconvert_exporter": "python",
   "pygments_lexer": "ipython3",
   "version": "3.10.2 (v3.10.2:a58ebcc701, Jan 13 2022, 14:50:16) [Clang 13.0.0 (clang-1300.0.29.30)]"
  },
  "orig_nbformat": 4,
  "vscode": {
   "interpreter": {
    "hash": "949777d72b0d2535278d3dc13498b2535136f6dfe0678499012e853ee9abcab1"
   }
  }
 },
 "nbformat": 4,
 "nbformat_minor": 2
}
